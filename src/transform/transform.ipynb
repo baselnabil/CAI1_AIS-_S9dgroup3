{
 "cells": [
  {
   "cell_type": "code",
   "execution_count": 38,
   "metadata": {},
   "outputs": [],
   "source": [
    "from pyspark.sql import SparkSession\n",
    "from pyspark.sql.functions import col\n",
    "from pyspark.sql.types import *\n",
    "from pyspark.sql import functions as F\n"
   ]
  },
  {
   "cell_type": "code",
   "execution_count": 39,
   "metadata": {},
   "outputs": [],
   "source": [
    "spark = SparkSession.builder\\\n",
    "        .appName('transform')\\\n",
    "        .getOrCreate()"
   ]
  },
  {
   "cell_type": "code",
   "execution_count": 40,
   "metadata": {},
   "outputs": [
    {
     "name": "stdout",
     "output_type": "stream",
     "text": [
      "+---------+----------------+---------------+--------------------+------+---------------+-------------+------------------+------------+----------------+------------+\n",
      "|work_year|experience_level|employment_type|           job_title|salary|salary_currency|salary_in_usd|employee_residence|remote_ratio|company_location|company_size|\n",
      "+---------+----------------+---------------+--------------------+------+---------------+-------------+------------------+------------+----------------+------------+\n",
      "|     2024|              SE|             FT|         AI Engineer|202730|            USD|       202730|                US|           0|              US|           M|\n",
      "|     2024|              SE|             FT|         AI Engineer| 92118|            USD|        92118|                US|           0|              US|           M|\n",
      "|     2024|              SE|             FT|       Data Engineer|130500|            USD|       130500|                US|           0|              US|           M|\n",
      "|     2024|              SE|             FT|       Data Engineer| 96000|            USD|        96000|                US|           0|              US|           M|\n",
      "|     2024|              SE|             FT|Machine Learning ...|190000|            USD|       190000|                US|           0|              US|           M|\n",
      "|     2024|              SE|             FT|Machine Learning ...|160000|            USD|       160000|                US|           0|              US|           M|\n",
      "|     2024|              MI|             FT|         ML Engineer|400000|            USD|       400000|                US|           0|              US|           M|\n",
      "|     2024|              MI|             FT|         ML Engineer| 65000|            USD|        65000|                US|           0|              US|           M|\n",
      "|     2024|              EN|             FT|        Data Analyst|101520|            USD|       101520|                US|           0|              US|           M|\n",
      "|     2024|              EN|             FT|        Data Analyst| 45864|            USD|        45864|                US|           0|              US|           M|\n",
      "|     2024|              SE|             FT|       Data Engineer|172469|            USD|       172469|                US|           0|              US|           M|\n",
      "|     2024|              SE|             FT|       Data Engineer|114945|            USD|       114945|                US|           0|              US|           M|\n",
      "|     2024|              EX|             FT|        NLP Engineer|200000|            USD|       200000|                US|           0|              US|           M|\n",
      "|     2024|              EX|             FT|        NLP Engineer|150000|            USD|       150000|                US|           0|              US|           M|\n",
      "|     2024|              MI|             FT|      Data Scientist|156450|            USD|       156450|                US|         100|              US|           M|\n",
      "|     2024|              MI|             FT|      Data Scientist|119200|            USD|       119200|                US|         100|              US|           M|\n",
      "|     2024|              SE|             FT|        Data Analyst|170000|            USD|       170000|                US|           0|              US|           M|\n",
      "|     2024|              SE|             FT|        Data Analyst|130000|            USD|       130000|                US|           0|              US|           M|\n",
      "|     2024|              SE|             FT|   Applied Scientist|222200|            USD|       222200|                US|           0|              US|           L|\n",
      "|     2024|              SE|             FT|   Applied Scientist|136000|            USD|       136000|                US|           0|              US|           L|\n",
      "+---------+----------------+---------------+--------------------+------+---------------+-------------+------------------+------------+----------------+------------+\n",
      "only showing top 20 rows\n",
      "\n"
     ]
    }
   ],
   "source": [
    "df= spark.read.parquet('../../data/processed/part-00000-93a63093-38e6-4c79-9597-cf30e93b080c-c000.snappy.parquet')\n",
    "df.show()"
   ]
  },
  {
   "cell_type": "code",
   "execution_count": 41,
   "metadata": {},
   "outputs": [],
   "source": [
    "columns_to_clean = [\n",
    "    ('work_year', IntegerType()),\n",
    "    ('experience_level', StringType()),\n",
    "    ('job_title', StringType()),\n",
    "    ('salary', DecimalType()),\n",
    "    ('salary_currency', StringType()),\n",
    "    ('salary_in_usd', DecimalType()),\n",
    "    ('employee_residence', StringType()),\n",
    "    ('remote_ratio', IntegerType()),\n",
    "    ('company_location', StringType()),\n",
    "    ('company_size', StringType())\n",
    "]\n",
    "\n",
    "clean_df = df\n",
    "\n",
    "for column, data_type in columns_to_clean:\n",
    "    clean_df = clean_df.withColumn(column, col(column).cast(data_type)) \\\n",
    "                       .filter(col(column).isNotNull())"
   ]
  },
  {
   "cell_type": "code",
   "execution_count": 42,
   "metadata": {},
   "outputs": [],
   "source": [
    "clean_df.coalesce(1).write.parquet(\"../../data/final\", mode='overwrite')"
   ]
  }
 ],
 "metadata": {
  "kernelspec": {
   "display_name": ".myenv",
   "language": "python",
   "name": "python3"
  },
  "language_info": {
   "codemirror_mode": {
    "name": "ipython",
    "version": 3
   },
   "file_extension": ".py",
   "mimetype": "text/x-python",
   "name": "python",
   "nbconvert_exporter": "python",
   "pygments_lexer": "ipython3",
   "version": "3.10.12"
  }
 },
 "nbformat": 4,
 "nbformat_minor": 2
}
