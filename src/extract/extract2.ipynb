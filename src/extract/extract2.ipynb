{
 "cells": [
  {
   "cell_type": "code",
   "execution_count": 2,
   "id": "a2688ced-d00d-48e5-aa78-8b8a4d3a3f1a",
   "metadata": {},
   "outputs": [],
   "source": [
    "from pyspark.sql import SparkSession\n",
    "from pyspark.sql.types import StructType, StructField, IntegerType, StringType\n"
   ]
  },
  {
   "cell_type": "code",
   "execution_count": 3,
   "id": "1dc78b02",
   "metadata": {},
   "outputs": [
    {
     "name": "stderr",
     "output_type": "stream",
     "text": [
      "24/10/03 14:26:00 WARN Utils: Your hostname, basel resolves to a loopback address: 127.0.1.1; using 192.168.1.5 instead (on interface wlp3s0)\n",
      "24/10/03 14:26:00 WARN Utils: Set SPARK_LOCAL_IP if you need to bind to another address\n",
      "Setting default log level to \"WARN\".\n",
      "To adjust logging level use sc.setLogLevel(newLevel). For SparkR, use setLogLevel(newLevel).\n",
      "24/10/03 14:26:10 WARN NativeCodeLoader: Unable to load native-hadoop library for your platform... using builtin-java classes where applicable\n"
     ]
    }
   ],
   "source": [
    "spark = SparkSession.builder\\\n",
    "    .appName('extractor2')\\\n",
    "    .getOrCreate()\n"
   ]
  },
  {
   "cell_type": "code",
   "execution_count": 19,
   "id": "77fe53aa-3cdb-4807-94af-258ceec81c10",
   "metadata": {},
   "outputs": [
    {
     "name": "stdout",
     "output_type": "stream",
     "text": [
      "Structure of data1:\n",
      "root\n",
      " |-- work_year: integer (nullable = true)\n",
      " |-- experience_level: string (nullable = true)\n",
      " |-- employment_type: string (nullable = true)\n",
      " |-- job_title: string (nullable = true)\n",
      " |-- salary: integer (nullable = true)\n",
      " |-- salary_currency: string (nullable = true)\n",
      " |-- salary_in_usd: integer (nullable = true)\n",
      " |-- employee_residence: string (nullable = true)\n",
      " |-- remote_ratio: integer (nullable = true)\n",
      " |-- company_location: string (nullable = true)\n",
      " |-- company_size: string (nullable = true)\n",
      "\n",
      "Structure of data2:\n",
      "root\n",
      " |-- work_year: integer (nullable = true)\n",
      " |-- experience_level: string (nullable = true)\n",
      " |-- employment_type: string (nullable = true)\n",
      " |-- job_title: string (nullable = true)\n",
      " |-- salary: integer (nullable = true)\n",
      " |-- salary_currency: string (nullable = true)\n",
      " |-- salary_in_usd: integer (nullable = true)\n",
      " |-- employee_residence: string (nullable = true)\n",
      " |-- remote_ratio: string (nullable = true)\n",
      " |-- company_location: string (nullable = true)\n",
      " |-- company_size: string (nullable = true)\n",
      "\n",
      "Structure of data3:\n",
      "root\n",
      " |-- work_year: integer (nullable = true)\n",
      " |-- experience_level: string (nullable = true)\n",
      " |-- employment_type: string (nullable = true)\n",
      " |-- job_title: string (nullable = true)\n",
      " |-- salary: integer (nullable = true)\n",
      " |-- salary_currency: string (nullable = true)\n",
      " |-- salary_in_usd: integer (nullable = true)\n",
      " |-- employee_residence: string (nullable = true)\n",
      " |-- remote_ratio: integer (nullable = true)\n",
      " |-- company_location: string (nullable = true)\n",
      " |-- company_size: string (nullable = true)\n",
      "\n"
     ]
    }
   ],
   "source": [
    "# Create a SparkSession\n",
    "\n",
    "# Define the schema for salaries_2\n",
    "schema = StructType([\n",
    "    StructField(\"work_year\", IntegerType(), True),\n",
    "    StructField(\"experience_level\", StringType(), True),\n",
    "    StructField(\"employment_type\", StringType(), True),\n",
    "    StructField(\"job_title\", StringType(), True),\n",
    "    StructField(\"salary\", IntegerType(), True),\n",
    "    StructField(\"salary_currency\", StringType(), True),\n",
    "    StructField(\"salary_in_usd\", IntegerType(), True),\n",
    "    StructField(\"employee_residence\", StringType(), True),\n",
    "    StructField(\"remote_ratio\", IntegerType(), True),\n",
    "    StructField(\"company_location\", StringType(), True),\n",
    "    StructField(\"company_size\", StringType(), True)\n",
    "])\n",
    "\n",
    "# Read the CSV files into DataFrames using the correct path and schema\n",
    "data1 = spark.read.csv('../../data/raw/salaries_2.csv', header=True, schema=schema)\n",
    "data2 = spark.read.csv('../../data/raw/jobs_in_data.csv', header=True, inferSchema=True)\n",
    "data3 = spark.read.csv('jobs.csv', header=True, inferSchema=True)\n",
    "\n",
    "# Transform jobs_in_Data to match the schema of salaries_2\n",
    "data2 = data2.select(\n",
    "    \"work_year\",\n",
    "    \"experience_level\",\n",
    "    \"employment_type\",\n",
    "    \"job_title\",\n",
    "    \"salary\",\n",
    "    \"salary_currency\",\n",
    "    \"salary_in_usd\",\n",
    "    \"employee_residence\",\n",
    "    \"work_setting\",\n",
    "    \"company_location\",\n",
    "    \"company_size\"\n",
    ").withColumnRenamed(\"work_setting\", \"remote_ratio\")\n",
    "\n",
    "data3 = data3.select(\n",
    "    data3[\"date_posted\"].cast(IntegerType()).alias(\"work_year\"),\n",
    "    data3[\"job_level\"].alias(\"experience_level\"),\n",
    "    data3[\"job_type\"].alias(\"employment_type\"),\n",
    "    data3[\"title\"].alias(\"job_title\"),\n",
    "    data3[\"min_amount\"].cast(IntegerType()).alias(\"salary\"),\n",
    "    data3[\"currency\"].alias(\"salary_currency\"),\n",
    "    data3[\"max_amount\"].cast(IntegerType()).alias(\"salary_in_usd\"),\n",
    "    data3[\"location\"].alias(\"employee_residence\"),\n",
    "    data3[\"is_remote\"].cast(IntegerType()).alias(\"remote_ratio\"),\n",
    "    data3[\"location\"].alias(\"company_location\"),\n",
    "    data3[\"company_num_employees\"].alias(\"company_size\")\n",
    ")\n",
    "\n",
    "\n",
    "# View the structure of the DataFrames\n",
    "print(\"Structure of data1:\")\n",
    "data1.printSchema()\n",
    "\n",
    "print(\"Structure of data2:\")\n",
    "data2.printSchema()\n",
    "\n",
    "print(\"Structure of data3:\")\n",
    "data3.printSchema()"
   ]
  },
  {
   "cell_type": "code",
   "execution_count": 16,
   "id": "d8372a03-124a-4786-9402-61ca1ab0dd82",
   "metadata": {},
   "outputs": [
    {
     "name": "stdout",
     "output_type": "stream",
     "text": [
      "+---------+----------------+---------------+--------------------+------+---------------+-------------+------------------+------------+----------------+------------+\n",
      "|work_year|experience_level|employment_type|           job_title|salary|salary_currency|salary_in_usd|employee_residence|remote_ratio|company_location|company_size|\n",
      "+---------+----------------+---------------+--------------------+------+---------------+-------------+------------------+------------+----------------+------------+\n",
      "|     NULL|            NULL|           NULL|  Lead Data Engineer|130658|            USD|       178484|        Dallas, TX|        NULL|      Dallas, TX|        NULL|\n",
      "|     NULL|            NULL|           NULL|    or similar tools|  NULL|           NULL|         NULL|              NULL|        NULL|            NULL|        NULL|\n",
      "|     NULL|            NULL|           NULL|                NULL|  NULL|           NULL|         NULL|              NULL|        NULL|            NULL|        NULL|\n",
      "|     NULL|            NULL|           NULL|                NULL|  NULL|           NULL|         NULL|              NULL|        NULL|            NULL|        NULL|\n",
      "|     NULL|            NULL|           NULL|                NULL|  NULL|           NULL|         NULL|              NULL|        NULL|            NULL|        NULL|\n",
      "|     NULL|            NULL|           NULL|                NULL|  NULL|           NULL|         NULL|              NULL|        NULL|            NULL|        NULL|\n",
      "|     NULL|            NULL|           NULL|                NULL|  NULL|           NULL|         NULL|              NULL|        NULL|            NULL|        NULL|\n",
      "|     NULL|            NULL|           NULL|                NULL|  NULL|           NULL|         NULL|              NULL|        NULL|            NULL|        NULL|\n",
      "|     NULL|            NULL|           NULL|                NULL|  NULL|           NULL|         NULL|              NULL|        NULL|            NULL|        NULL|\n",
      "|     NULL|            NULL|           NULL|                NULL|  NULL|           NULL|         NULL|              NULL|        NULL|            NULL|        NULL|\n",
      "|     NULL|            NULL|           NULL|                NULL|  NULL|           NULL|         NULL|              NULL|        NULL|            NULL|        NULL|\n",
      "|     NULL|            NULL|           NULL|                NULL|  NULL|           NULL|         NULL|              NULL|        NULL|            NULL|        NULL|\n",
      "|     NULL|            NULL|           NULL|                NULL|  NULL|           NULL|         NULL|              NULL|        NULL|            NULL|        NULL|\n",
      "|     NULL|            NULL|           NULL|                NULL|  NULL|           NULL|         NULL|              NULL|        NULL|            NULL|        NULL|\n",
      "|     NULL|            NULL|           NULL|                NULL|  NULL|           NULL|         NULL|              NULL|        NULL|            NULL|        NULL|\n",
      "|     NULL|            NULL|           NULL|                NULL|  NULL|           NULL|         NULL|              NULL|        NULL|            NULL|        NULL|\n",
      "|     NULL|            NULL|           NULL|                NULL|  NULL|           NULL|         NULL|              NULL|        NULL|            NULL|        NULL|\n",
      "|     NULL|            NULL|           NULL|                NULL|  NULL|           NULL|         NULL|              NULL|        NULL|            NULL|        NULL|\n",
      "|     NULL|            NULL|           NULL|                NULL|  NULL|           NULL|         NULL|              NULL|        NULL|            NULL|        NULL|\n",
      "|     NULL|            NULL|           NULL| the above job de...|  NULL|           NULL|         NULL|              NULL|        NULL|            NULL|        NULL|\n",
      "+---------+----------------+---------------+--------------------+------+---------------+-------------+------------------+------------+----------------+------------+\n",
      "only showing top 20 rows\n",
      "\n"
     ]
    }
   ],
   "source": [
    "df_parquet= spark.read.parquet('../../data/raw/data.parquet')\n",
    "df_json= spark.read.option(\"multiline\", \"true\").json('../../data/raw/data.json')\n",
    "data3.show()"
   ]
  },
  {
   "cell_type": "code",
   "execution_count": 20,
   "id": "8f427c55-de80-48ec-9fc9-b0858ec31e6f",
   "metadata": {},
   "outputs": [
    {
     "name": "stdout",
     "output_type": "stream",
     "text": [
      "Structure of merged_dataset:\n",
      "root\n",
      " |-- work_year: string (nullable = true)\n",
      " |-- experience_level: string (nullable = true)\n",
      " |-- employment_type: string (nullable = true)\n",
      " |-- job_title: string (nullable = true)\n",
      " |-- salary: string (nullable = true)\n",
      " |-- salary_currency: string (nullable = true)\n",
      " |-- salary_in_usd: string (nullable = true)\n",
      " |-- employee_residence: string (nullable = true)\n",
      " |-- remote_ratio: string (nullable = true)\n",
      " |-- company_location: string (nullable = true)\n",
      " |-- company_size: string (nullable = true)\n",
      "\n",
      "+---------+----------------+---------------+--------------------+------+---------------+-------------+------------------+------------+----------------+------------+\n",
      "|work_year|experience_level|employment_type|           job_title|salary|salary_currency|salary_in_usd|employee_residence|remote_ratio|company_location|company_size|\n",
      "+---------+----------------+---------------+--------------------+------+---------------+-------------+------------------+------------+----------------+------------+\n",
      "|     2024|              SE|             FT|         AI Engineer|202730|            USD|       202730|                US|           0|              US|           M|\n",
      "|     2024|              SE|             FT|         AI Engineer| 92118|            USD|        92118|                US|           0|              US|           M|\n",
      "|     2024|              SE|             FT|       Data Engineer|130500|            USD|       130500|                US|           0|              US|           M|\n",
      "|     2024|              SE|             FT|       Data Engineer| 96000|            USD|        96000|                US|           0|              US|           M|\n",
      "|     2024|              SE|             FT|Machine Learning ...|190000|            USD|       190000|                US|           0|              US|           M|\n",
      "+---------+----------------+---------------+--------------------+------+---------------+-------------+------------------+------------+----------------+------------+\n",
      "only showing top 5 rows\n",
      "\n"
     ]
    }
   ],
   "source": [
    "merged_dataset = data1.union(data2).union(data3).union(df_parquet).union(df_json)\n",
    "\n",
    "# View the structure of the merged dataset\n",
    "print(\"Structure of merged_dataset:\")\n",
    "merged_dataset.printSchema()\n",
    "\n",
    "# Show a few rows of the merged dataset\n",
    "merged_dataset.show(5)"
   ]
  },
  {
   "cell_type": "code",
   "execution_count": 21,
   "id": "63541c27-1dbb-4293-91f1-0d05254630df",
   "metadata": {},
   "outputs": [
    {
     "name": "stdout",
     "output_type": "stream",
     "text": [
      "Size of the merged dataset: 64270 rows\n"
     ]
    }
   ],
   "source": [
    "# Show the size of the merged dataset\n",
    "merged_size = merged_dataset.count()\n",
    "print(f\"Size of the merged dataset: {merged_size} rows\")"
   ]
  },
  {
   "cell_type": "code",
   "execution_count": 22,
   "id": "a404fe40-5d3e-4228-96e1-07eedfcb1d70",
   "metadata": {},
   "outputs": [
    {
     "name": "stderr",
     "output_type": "stream",
     "text": [
      "                                                                                \r"
     ]
    }
   ],
   "source": [
    "merged_dataset.coalesce(1).write.parquet(\"../../data/processed\", mode='overwrite')\n"
   ]
  },
  {
   "cell_type": "code",
   "execution_count": null,
   "id": "98d1fdd2-b9b6-42a1-9d70-27f7d861e8e6",
   "metadata": {},
   "outputs": [],
   "source": []
  }
 ],
 "metadata": {
  "kernelspec": {
   "display_name": "Python 3 (ipykernel)",
   "language": "python",
   "name": "python3"
  },
  "language_info": {
   "codemirror_mode": {
    "name": "ipython",
    "version": 3
   },
   "file_extension": ".py",
   "mimetype": "text/x-python",
   "name": "python",
   "nbconvert_exporter": "python",
   "pygments_lexer": "ipython3",
   "version": "3.10.12"
  }
 },
 "nbformat": 4,
 "nbformat_minor": 5
}
