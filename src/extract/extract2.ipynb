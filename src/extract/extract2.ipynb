{
 "cells": [
  {
   "cell_type": "code",
   "execution_count": 27,
   "id": "a2688ced-d00d-48e5-aa78-8b8a4d3a3f1a",
   "metadata": {},
   "outputs": [],
   "source": [
    "from pyspark.sql import SparkSession\n",
    "from pyspark.sql.types import StructType, StructField, IntegerType, StringType\n",
    "from IPython.core.interactiveshell import InteractiveShell\n",
    "InteractiveShell.ast_node_interactivity = \"all\""
   ]
  },
  {
   "cell_type": "code",
   "execution_count": null,
   "id": "1dc78b02",
   "metadata": {},
   "outputs": [],
   "source": [
    "spark = SparkSession.builder\\\n",
    "    .appName('extractor2')\\\n",
    "    .getOrCreate()\n"
   ]
  },
  {
   "cell_type": "code",
   "execution_count": null,
   "id": "77fe53aa-3cdb-4807-94af-258ceec81c10",
   "metadata": {},
   "outputs": [],
   "source": [
    "# Create a SparkSession\n",
    "\n",
    "# Define the schema for salaries_2\n",
    "schema = StructType([\n",
    "    StructField(\"work_year\", IntegerType(), True),\n",
    "    StructField(\"experience_level\", StringType(), True),\n",
    "    StructField(\"employment_type\", StringType(), True),\n",
    "    StructField(\"job_title\", StringType(), True),\n",
    "    StructField(\"salary\", IntegerType(), True),\n",
    "    StructField(\"salary_currency\", StringType(), True),\n",
    "    StructField(\"salary_in_usd\", IntegerType(), True),\n",
    "    StructField(\"employee_residence\", StringType(), True),\n",
    "    StructField(\"remote_ratio\", IntegerType(), True),\n",
    "    StructField(\"company_location\", StringType(), True),\n",
    "    StructField(\"company_size\", StringType(), True)\n",
    "])\n",
    "\n",
    "# Read the CSV files into DataFrames using the correct path and schema\n",
    "data1 = spark.read.csv('../../data/raw/salaries_2.csv', header=True, schema=schema)\n",
    "data2 = spark.read.csv('../../data/raw/jobs_in_data.csv', header=True, inferSchema=True)\n",
    "data3 = spark.read.csv('jobs.csv', header=True, inferSchema=True)\n",
    "\n",
    "# Transform jobs_in_Data to match the schema of salaries_2\n",
    "data2 = data2.select(\n",
    "    \"work_year\",\n",
    "    \"experience_level\",\n",
    "    \"employment_type\",\n",
    "    \"job_title\",\n",
    "    \"salary\",\n",
    "    \"salary_currency\",\n",
    "    \"salary_in_usd\",\n",
    "    \"employee_residence\",\n",
    "    \"work_setting\",\n",
    "    \"company_location\",\n",
    "    \"company_size\"\n",
    ").withColumnRenamed(\"work_setting\", \"remote_ratio\")\n",
    "\n",
    "data3 = data3.select(\n",
    "    data3[\"date_posted\"].cast(IntegerType()).alias(\"work_year\"),\n",
    "    data3[\"job_level\"].alias(\"experience_level\"),\n",
    "    data3[\"job_type\"].alias(\"employment_type\"),\n",
    "    data3[\"title\"].alias(\"job_title\"),\n",
    "    data3[\"min_amount\"].cast(IntegerType()).alias(\"salary\"),\n",
    "    data3[\"currency\"].alias(\"salary_currency\"),\n",
    "    data3[\"max_amount\"].cast(IntegerType()).alias(\"salary_in_usd\"),\n",
    "    data3[\"location\"].alias(\"employee_residence\"),\n",
    "    data3[\"is_remote\"].cast(IntegerType()).alias(\"remote_ratio\"),\n",
    "    data3[\"location\"].alias(\"company_location\"),\n",
    "    data3[\"company_num_employees\"].alias(\"company_size\")\n",
    ")\n",
    "\n",
    "\n"
   ]
  },
  {
   "cell_type": "code",
   "execution_count": null,
   "id": "d8372a03-124a-4786-9402-61ca1ab0dd82",
   "metadata": {},
   "outputs": [],
   "source": [
    "df_parquet= spark.read.parquet('../../data/raw/data.parquet')\n",
    "df_json= spark.read.option(\"multiline\", \"true\").json('../../data/raw/data.json')\n",
    "# View the structure of the DataFrames\n",
    "print(\"Structure of data1:\")\n",
    "data1.printSchema()\n",
    "\n",
    "print(\"Structure of data2:\")\n",
    "data2.printSchema()\n",
    "\n",
    "print(\"Structure of data3:\")\n",
    "data3.printSchema()\n",
    "# View the structure of the DataFrames\n",
    "print(\"Structure of data1:\")\n",
    "df_parquet.printSchema()\n",
    "\n",
    "\n"
   ]
  },
  {
   "cell_type": "code",
   "execution_count": null,
   "id": "8f427c55-de80-48ec-9fc9-b0858ec31e6f",
   "metadata": {},
   "outputs": [],
   "source": [
    "merged_dataset = data1.union(data2).union(data3).union(df_parquet)\n",
    "\n",
    "# View the structure of the merged dataset\n",
    "print(\"Structure of merged_dataset:\")\n",
    "merged_dataset.printSchema()\n",
    "\n",
    "# Show a few rows of the merged dataset\n",
    "merged_dataset.show(5)"
   ]
  },
  {
   "cell_type": "code",
   "execution_count": null,
   "id": "63541c27-1dbb-4293-91f1-0d05254630df",
   "metadata": {},
   "outputs": [],
   "source": [
    "# Show the size of the merged dataset\n",
    "merged_size = merged_dataset.count()\n",
    "print(f\"Size of the merged dataset: {merged_size} rows\")"
   ]
  },
  {
   "cell_type": "code",
   "execution_count": 34,
   "id": "a404fe40-5d3e-4228-96e1-07eedfcb1d70",
   "metadata": {},
   "outputs": [],
   "source": [
    "merged_dataset.coalesce(1).write.parquet(\"../../data/processed\", mode='overwrite')\n"
   ]
  },
  {
   "cell_type": "code",
   "execution_count": null,
   "id": "98d1fdd2-b9b6-42a1-9d70-27f7d861e8e6",
   "metadata": {},
   "outputs": [],
   "source": []
  }
 ],
 "metadata": {
  "kernelspec": {
   "display_name": ".myenv",
   "language": "python",
   "name": "python3"
  },
  "language_info": {
   "codemirror_mode": {
    "name": "ipython",
    "version": 3
   },
   "file_extension": ".py",
   "mimetype": "text/x-python",
   "name": "python",
   "nbconvert_exporter": "python",
   "pygments_lexer": "ipython3",
   "version": "3.10.12"
  }
 },
 "nbformat": 4,
 "nbformat_minor": 5
}
