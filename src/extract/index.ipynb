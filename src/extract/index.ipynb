{
 "cells": [
  {
   "cell_type": "code",
   "execution_count": 36,
   "id": "a2688ced-d00d-48e5-aa78-8b8a4d3a3f1a",
   "metadata": {},
   "outputs": [],
   "source": [
    "from pyspark.sql import SparkSession\n",
    "from pyspark.sql.types import StructType, StructField, IntegerType, StringType\n",
    "from job_scraper import scrape_and_merge_jobs"
   ]
  },
  {
   "cell_type": "code",
   "execution_count": 37,
   "id": "22a89ef0-20ae-4d44-89af-5b833236bee0",
   "metadata": {},
   "outputs": [],
   "source": [
    "joblocations = [\n",
    "    \"Dallas, TX\", \n",
    "    \"San Francisco, CA\",\n",
    "    \"Los Angeles, CA\",\n",
    "]"
   ]
  },
  {
   "cell_type": "code",
   "execution_count": 38,
   "id": "084c9d6a-2cd5-460d-ba03-ab60663353bb",
   "metadata": {},
   "outputs": [
    {
     "name": "stderr",
     "output_type": "stream",
     "text": [
      "2024-10-02 20:28:46,095 - JobSpy - INFO - Indeed search page: 1\n",
      "2024-10-02 20:28:47,026 - JobSpy - INFO - Glassdoor search page: 1\n",
      "2024-10-02 20:28:48,445 - JobSpy - INFO - Indeed finished scraping\n",
      "2024-10-02 20:28:51,935 - JobSpy - INFO - Glassdoor search page: 2\n",
      "2024-10-02 20:28:52,561 - JobSpy - INFO - Glassdoor finished scraping\n",
      "2024-10-02 20:28:52,828 - JobSpy - INFO - Indeed search page: 1\n",
      "2024-10-02 20:28:53,356 - JobSpy - INFO - Glassdoor search page: 1\n",
      "2024-10-02 20:28:53,872 - JobSpy - INFO - Indeed finished scraping\n",
      "2024-10-02 20:28:55,497 - JobSpy - INFO - Glassdoor search page: 2\n",
      "2024-10-02 20:28:56,019 - JobSpy - INFO - Glassdoor finished scraping\n",
      "2024-10-02 20:28:56,201 - JobSpy - INFO - Indeed search page: 1\n",
      "2024-10-02 20:28:57,019 - JobSpy - INFO - Glassdoor search page: 1\n",
      "2024-10-02 20:28:57,205 - JobSpy - INFO - Indeed finished scraping\n",
      "2024-10-02 20:28:57,549 - JobSpy - INFO - Glassdoor finished scraping\n"
     ]
    },
    {
     "name": "stdout",
     "output_type": "stream",
     "text": [
      "Found 117 jobs in total\n"
     ]
    }
   ],
   "source": [
    "scrape_and_merge_jobs(\n",
    "    locations=joblocations,\n",
    "    site_name=[\"indeed\"#, \"zip_recruiter\"\n",
    "               , \"glassdoor\"],\n",
    "    search_term='\"data engineer\"',\n",
    "    results_wanted=40,\n",
    "    hours_old=512,\n",
    "    country_indeed='USA',\n",
    "    output_file=\"jobs.csv\"\n",
    ")"
   ]
  },
  {
   "cell_type": "code",
   "execution_count": 40,
   "id": "77fe53aa-3cdb-4807-94af-258ceec81c10",
   "metadata": {},
   "outputs": [
    {
     "name": "stdout",
     "output_type": "stream",
     "text": [
      "Structure of salaries_2:\n",
      "root\n",
      " |-- work_year: integer (nullable = true)\n",
      " |-- experience_level: string (nullable = true)\n",
      " |-- employment_type: string (nullable = true)\n",
      " |-- job_title: string (nullable = true)\n",
      " |-- salary: integer (nullable = true)\n",
      " |-- salary_currency: string (nullable = true)\n",
      " |-- salary_in_usd: integer (nullable = true)\n",
      " |-- employee_residence: string (nullable = true)\n",
      " |-- remote_ratio: integer (nullable = true)\n",
      " |-- company_location: string (nullable = true)\n",
      " |-- company_size: string (nullable = true)\n",
      "\n",
      "Structure of jobs_in_Data:\n",
      "root\n",
      " |-- work_year: integer (nullable = true)\n",
      " |-- experience_level: string (nullable = true)\n",
      " |-- employment_type: string (nullable = true)\n",
      " |-- job_title: string (nullable = true)\n",
      " |-- salary: integer (nullable = true)\n",
      " |-- salary_currency: string (nullable = true)\n",
      " |-- salary_in_usd: integer (nullable = true)\n",
      " |-- employee_residence: string (nullable = true)\n",
      " |-- remote_ratio: string (nullable = true)\n",
      " |-- company_location: string (nullable = true)\n",
      " |-- company_size: string (nullable = true)\n",
      "\n",
      "Structure of latestjobs:\n",
      "root\n",
      " |-- work_year: integer (nullable = true)\n",
      " |-- experience_level: string (nullable = true)\n",
      " |-- employment_type: string (nullable = true)\n",
      " |-- job_title: string (nullable = true)\n",
      " |-- salary: integer (nullable = true)\n",
      " |-- salary_currency: string (nullable = true)\n",
      " |-- salary_in_usd: integer (nullable = true)\n",
      " |-- employee_residence: string (nullable = true)\n",
      " |-- remote_ratio: integer (nullable = true)\n",
      " |-- company_location: string (nullable = true)\n",
      " |-- company_size: string (nullable = true)\n",
      "\n"
     ]
    }
   ],
   "source": [
    "from pyspark.sql import SparkSession\n",
    "from pyspark.sql.types import StructType, StructField, IntegerType, StringType\n",
    "\n",
    "# Create a SparkSession\n",
    "spark = SparkSession.builder.getOrCreate()\n",
    "\n",
    "# Define the schema for salaries_2\n",
    "schema = StructType([\n",
    "    StructField(\"work_year\", IntegerType(), True),\n",
    "    StructField(\"experience_level\", StringType(), True),\n",
    "    StructField(\"employment_type\", StringType(), True),\n",
    "    StructField(\"job_title\", StringType(), True),\n",
    "    StructField(\"salary\", IntegerType(), True),\n",
    "    StructField(\"salary_currency\", StringType(), True),\n",
    "    StructField(\"salary_in_usd\", IntegerType(), True),\n",
    "    StructField(\"employee_residence\", StringType(), True),\n",
    "    StructField(\"remote_ratio\", IntegerType(), True),\n",
    "    StructField(\"company_location\", StringType(), True),\n",
    "    StructField(\"company_size\", StringType(), True)\n",
    "])\n",
    "\n",
    "# Read the CSV files into DataFrames using the correct path and schema\n",
    "salaries_2 = spark.read.csv('../../data/raw/salaries_2.csv', header=True, schema=schema)\n",
    "jobs_in_Data = spark.read.csv('../../data/raw/jobs_in_data.csv', header=True, inferSchema=True)\n",
    "latestjobs = spark.read.csv('jobs.csv', header=True, inferSchema=True)\n",
    "\n",
    "# Transform jobs_in_Data to match the schema of salaries_2\n",
    "jobs_in_Data = jobs_in_Data.select(\n",
    "    \"work_year\",\n",
    "    \"experience_level\",\n",
    "    \"employment_type\",\n",
    "    \"job_title\",\n",
    "    \"salary\",\n",
    "    \"salary_currency\",\n",
    "    \"salary_in_usd\",\n",
    "    \"employee_residence\",\n",
    "    \"work_setting\",\n",
    "    \"company_location\",\n",
    "    \"company_size\"\n",
    ").withColumnRenamed(\"work_setting\", \"remote_ratio\")\n",
    "\n",
    "latestjobs = latestjobs.select(\n",
    "    latestjobs[\"date_posted\"].cast(IntegerType()).alias(\"work_year\"),\n",
    "    latestjobs[\"job_level\"].alias(\"experience_level\"),\n",
    "    latestjobs[\"job_type\"].alias(\"employment_type\"),\n",
    "    latestjobs[\"title\"].alias(\"job_title\"),\n",
    "    latestjobs[\"min_amount\"].cast(IntegerType()).alias(\"salary\"),\n",
    "    latestjobs[\"currency\"].alias(\"salary_currency\"),\n",
    "    latestjobs[\"max_amount\"].cast(IntegerType()).alias(\"salary_in_usd\"),\n",
    "    latestjobs[\"location\"].alias(\"employee_residence\"),\n",
    "    latestjobs[\"is_remote\"].cast(IntegerType()).alias(\"remote_ratio\"),\n",
    "    latestjobs[\"location\"].alias(\"company_location\"),\n",
    "    latestjobs[\"company_num_employees\"].alias(\"company_size\")\n",
    ")\n",
    "\n",
    "\n",
    "# View the structure of the DataFrames\n",
    "print(\"Structure of salaries_2:\")\n",
    "salaries_2.printSchema()\n",
    "\n",
    "print(\"Structure of jobs_in_Data:\")\n",
    "jobs_in_Data.printSchema()\n",
    "\n",
    "print(\"Structure of latestjobs:\")\n",
    "latestjobs.printSchema()"
   ]
  },
  {
   "cell_type": "code",
   "execution_count": 43,
   "id": "d8372a03-124a-4786-9402-61ca1ab0dd82",
   "metadata": {},
   "outputs": [],
   "source": [
    "df_parquet= spark.read.parquet('../../data/raw/data.parquet')\n",
    "df_json= spark.read.option(\"multiline\", \"true\").json('../../data/raw/data.json')"
   ]
  },
  {
   "cell_type": "code",
   "execution_count": 44,
   "id": "8f427c55-de80-48ec-9fc9-b0858ec31e6f",
   "metadata": {},
   "outputs": [
    {
     "name": "stdout",
     "output_type": "stream",
     "text": [
      "Structure of merged_dataset:\n",
      "root\n",
      " |-- work_year: string (nullable = true)\n",
      " |-- experience_level: string (nullable = true)\n",
      " |-- employment_type: string (nullable = true)\n",
      " |-- job_title: string (nullable = true)\n",
      " |-- salary: string (nullable = true)\n",
      " |-- salary_currency: string (nullable = true)\n",
      " |-- salary_in_usd: string (nullable = true)\n",
      " |-- employee_residence: string (nullable = true)\n",
      " |-- remote_ratio: string (nullable = true)\n",
      " |-- company_location: string (nullable = true)\n",
      " |-- company_size: string (nullable = true)\n",
      "\n",
      "+---------+----------------+---------------+--------------------+------+---------------+-------------+------------------+------------+----------------+------------+\n",
      "|work_year|experience_level|employment_type|           job_title|salary|salary_currency|salary_in_usd|employee_residence|remote_ratio|company_location|company_size|\n",
      "+---------+----------------+---------------+--------------------+------+---------------+-------------+------------------+------------+----------------+------------+\n",
      "|     2024|              SE|             FT|         AI Engineer|202730|            USD|       202730|                US|           0|              US|           M|\n",
      "|     2024|              SE|             FT|         AI Engineer| 92118|            USD|        92118|                US|           0|              US|           M|\n",
      "|     2024|              SE|             FT|       Data Engineer|130500|            USD|       130500|                US|           0|              US|           M|\n",
      "|     2024|              SE|             FT|       Data Engineer| 96000|            USD|        96000|                US|           0|              US|           M|\n",
      "|     2024|              SE|             FT|Machine Learning ...|190000|            USD|       190000|                US|           0|              US|           M|\n",
      "+---------+----------------+---------------+--------------------+------+---------------+-------------+------------------+------------+----------------+------------+\n",
      "only showing top 5 rows\n",
      "\n"
     ]
    }
   ],
   "source": [
    "merged_dataset = salaries_2.union(jobs_in_Data).union(latestjobs).union(df_parquet).union(df_json)\n",
    "\n",
    "# View the structure of the merged dataset\n",
    "print(\"Structure of merged_dataset:\")\n",
    "merged_dataset.printSchema()\n",
    "\n",
    "# Show a few rows of the merged dataset\n",
    "merged_dataset.show(5)"
   ]
  },
  {
   "cell_type": "code",
   "execution_count": 45,
   "id": "63541c27-1dbb-4293-91f1-0d05254630df",
   "metadata": {},
   "outputs": [
    {
     "name": "stdout",
     "output_type": "stream",
     "text": [
      "Size of the merged dataset: 63554 rows\n"
     ]
    }
   ],
   "source": [
    "# Show the size of the merged dataset\n",
    "merged_size = merged_dataset.count()\n",
    "print(f\"Size of the merged dataset: {merged_size} rows\")"
   ]
  },
  {
   "cell_type": "code",
   "execution_count": 48,
   "id": "a404fe40-5d3e-4228-96e1-07eedfcb1d70",
   "metadata": {},
   "outputs": [],
   "source": [
    "merged_dataset.write.parquet(\"../../data/processed\", mode='overwrite')\n"
   ]
  },
  {
   "cell_type": "code",
   "execution_count": null,
   "id": "98d1fdd2-b9b6-42a1-9d70-27f7d861e8e6",
   "metadata": {},
   "outputs": [],
   "source": []
  }
 ],
 "metadata": {
  "kernelspec": {
   "display_name": "Python 3 (ipykernel)",
   "language": "python",
   "name": "python3"
  },
  "language_info": {
   "codemirror_mode": {
    "name": "ipython",
    "version": 3
   },
   "file_extension": ".py",
   "mimetype": "text/x-python",
   "name": "python",
   "nbconvert_exporter": "python",
   "pygments_lexer": "ipython3",
   "version": "3.11.10"
  }
 },
 "nbformat": 4,
 "nbformat_minor": 5
}
