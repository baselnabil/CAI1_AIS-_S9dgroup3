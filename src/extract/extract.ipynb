{
        "cells": [
                {
                        "cell_type": "code",
                        "execution_count": 25,
                        "metadata": {},
                        "outputs": [],
                        "source": [
                                "from pyspark.sql import SparkSession\n",
                                "from pyspark.sql.functions import *\n",
                                "from pyspark.sql.types import *\n"
                        ]
                },
                {
                        "cell_type": "code",
                        "execution_count": 26,
                        "metadata": {},
                        "outputs": [],
                        "source": [
                                "spark = SparkSession.builder\\\n",
                                "        .appName('Grad_proj') \\\n",
                                "        .getOrCreate()"
                        ]
                },
                {
                        "cell_type": "code",
                        "execution_count": 27,
                        "metadata": {},
                        "outputs": [],
                        "source": [
                                "schema = StructType([\n",
                                "    StructField(\"work_year\", IntegerType(), True),\n",
                                "    StructField(\"experience_level\", StringType(), True),\n",
                                "    StructField(\"employment_type\", StringType(), True),\n",
                                "    StructField(\"job_title\", StringType(), True),\n",
                                "    StructField(\"salary\", DoubleType(), True),\n",
                                "    StructField(\"salary_currency\", StringType(), True),\n",
                                "    StructField(\"salary_in_usd\", DoubleType(), True),\n",
                                "    StructField(\"employee_residence\", StringType(), True),\n",
                                "    StructField(\"remote_ratio\", IntegerType(), True),\n",
                                "    StructField(\"company_location\", StringType(), True),\n",
                                "    StructField(\"company_size\", StringType(), True) \n",
                                "])"
                        ]
                },
                {
                        "cell_type": "code",
                        "execution_count": null,
                        "metadata": {},
                        "outputs": [],
                        "source": [
                                "df_csv = spark.read.csv('../../data/raw/salaries (2).csv',header=True,schema=schema)\n",
                                "df_parquet= spark.read.parquet('../../data/raw/data.parquet')\n",
                                "df_json= spark.read.option(\"multiline\", \"true\").json('../../data/raw/data.json')\n"
                        ]
                },
                {
                        "cell_type": "code",
                        "execution_count": null,
                        "metadata": {},
                        "outputs": [],
                        "source": [
                                "df_combined = df_csv.union(df_json).union(df_parquet)\n",
                                "\n"
                        ]
                },
                {
                        "cell_type": "code",
                        "execution_count": 38,
                        "metadata": {},
                        "outputs": [],
                        "source": [
                                "\n",
                                "\n",
                                "df_combined.write.parquet(\"../../data/processed\")\n"
                        ]
                }
        ],
        "metadata": {
                "kernelspec": {
                        "display_name": ".myenv",
                        "language": "python",
                        "name": "python3"
                },
                "language_info": {
                        "codemirror_mode": {
                                "name": "ipython",
                                "version": 3
                        },
                        "file_extension": ".py",
                        "mimetype": "text/x-python",
                        "name": "python",
                        "nbconvert_exporter": "python",
                        "pygments_lexer": "ipython3",
                        "version": "3.10.12"
                }
        },
        "nbformat": 4,
        "nbformat_minor": 2
}
